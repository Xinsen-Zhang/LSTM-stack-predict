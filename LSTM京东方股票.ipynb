{
  "nbformat": 4,
  "nbformat_minor": 0,
  "metadata": {
    "colab": {
      "name": "LSTM京东方股票.ipynb",
      "version": "0.3.2",
      "provenance": [],
      "collapsed_sections": [],
      "include_colab_link": true
    },
    "kernelspec": {
      "name": "python3",
      "display_name": "Python 3"
    },
    "accelerator": "GPU"
  },
  "cells": [
    {
      "cell_type": "markdown",
      "metadata": {
        "id": "view-in-github",
        "colab_type": "text"
      },
      "source": [
        "<a href=\"https://colab.research.google.com/github/Xinsen-Zhang/LSTM-stack-predict/blob/master/LSTM%E4%BA%AC%E4%B8%9C%E6%96%B9%E8%82%A1%E7%A5%A8.ipynb\" target=\"_parent\"><img src=\"https://colab.research.google.com/assets/colab-badge.svg\" alt=\"Open In Colab\"/></a>"
      ]
    },
    {
      "cell_type": "code",
      "metadata": {
        "id": "FgDAnLkYvi5s",
        "colab_type": "code",
        "outputId": "f52ad0eb-095e-4348-e6c8-880186cea087",
        "colab": {
          "base_uri": "https://localhost:8080/",
          "height": 510
        }
      },
      "source": [
        "!pip install tushare"
      ],
      "execution_count": 0,
      "outputs": [
        {
          "output_type": "stream",
          "text": [
            "Collecting pytube\n",
            "  Downloading https://files.pythonhosted.org/packages/d5/67/087f4771284110bf4c742d101fa8f4019529d55a2850cd383349c41f9930/pytube-9.5.0-py3-none-any.whl\n",
            "Collecting tushare\n",
            "\u001b[?25l  Downloading https://files.pythonhosted.org/packages/46/90/5890016a342962d35c187480c06fd1d0f04ec5b276f9445bd8b534386de2/tushare-1.2.35.tar.gz (168kB)\n",
            "\u001b[K     |████████████████████████████████| 174kB 49.1MB/s \n",
            "\u001b[?25hRequirement already satisfied: pandas>=0.18.0 in /usr/local/lib/python3.6/dist-packages (from tushare) (0.24.2)\n",
            "Requirement already satisfied: requests>=2.0.0 in /usr/local/lib/python3.6/dist-packages (from tushare) (2.21.0)\n",
            "Requirement already satisfied: lxml>=3.8.0 in /usr/local/lib/python3.6/dist-packages (from tushare) (4.2.6)\n",
            "Collecting simplejson>=3.16.0 (from tushare)\n",
            "\u001b[?25l  Downloading https://files.pythonhosted.org/packages/e3/24/c35fb1c1c315fc0fffe61ea00d3f88e85469004713dab488dee4f35b0aff/simplejson-3.16.0.tar.gz (81kB)\n",
            "\u001b[K     |████████████████████████████████| 81kB 25.0MB/s \n",
            "\u001b[?25hRequirement already satisfied: bs4>=0.0.1 in /usr/local/lib/python3.6/dist-packages (from tushare) (0.0.1)\n",
            "Requirement already satisfied: numpy>=1.12.0 in /usr/local/lib/python3.6/dist-packages (from pandas>=0.18.0->tushare) (1.16.4)\n",
            "Requirement already satisfied: pytz>=2011k in /usr/local/lib/python3.6/dist-packages (from pandas>=0.18.0->tushare) (2018.9)\n",
            "Requirement already satisfied: python-dateutil>=2.5.0 in /usr/local/lib/python3.6/dist-packages (from pandas>=0.18.0->tushare) (2.5.3)\n",
            "Requirement already satisfied: urllib3<1.25,>=1.21.1 in /usr/local/lib/python3.6/dist-packages (from requests>=2.0.0->tushare) (1.24.3)\n",
            "Requirement already satisfied: chardet<3.1.0,>=3.0.2 in /usr/local/lib/python3.6/dist-packages (from requests>=2.0.0->tushare) (3.0.4)\n",
            "Requirement already satisfied: idna<2.9,>=2.5 in /usr/local/lib/python3.6/dist-packages (from requests>=2.0.0->tushare) (2.8)\n",
            "Requirement already satisfied: certifi>=2017.4.17 in /usr/local/lib/python3.6/dist-packages (from requests>=2.0.0->tushare) (2019.3.9)\n",
            "Requirement already satisfied: beautifulsoup4 in /usr/local/lib/python3.6/dist-packages (from bs4>=0.0.1->tushare) (4.6.3)\n",
            "Requirement already satisfied: six>=1.5 in /usr/local/lib/python3.6/dist-packages (from python-dateutil>=2.5.0->pandas>=0.18.0->tushare) (1.12.0)\n",
            "Building wheels for collected packages: tushare, simplejson\n",
            "  Building wheel for tushare (setup.py) ... \u001b[?25l\u001b[?25hdone\n",
            "  Stored in directory: /root/.cache/pip/wheels/a0/e2/63/7af55ce7b4b398522ff486e7a80b379318817d029921c7c3cc\n",
            "  Building wheel for simplejson (setup.py) ... \u001b[?25l\u001b[?25hdone\n",
            "  Stored in directory: /root/.cache/pip/wheels/5d/1a/1e/0350bb3df3e74215cd91325344cc86c2c691f5306eb4d22c77\n",
            "Successfully built tushare simplejson\n",
            "Installing collected packages: pytube, simplejson, tushare\n",
            "Successfully installed pytube-9.5.0 simplejson-3.16.0 tushare-1.2.35\n"
          ],
          "name": "stdout"
        }
      ]
    },
    {
      "cell_type": "code",
      "metadata": {
        "id": "sOZsVoDaJjA0",
        "colab_type": "code",
        "outputId": "119a0fdb-7374-443c-9973-b1b48f0ecf82",
        "colab": {
          "base_uri": "https://localhost:8080/",
          "height": 34
        }
      },
      "source": [
        "import tushare as ts\n",
        "data = ts.get_today_ticks('600848')\n",
        "data.to_csv('./jingdongfang.csv', index= False, header= False)"
      ],
      "execution_count": 0,
      "outputs": [
        {
          "output_type": "stream",
          "text": [
            "[Getting data:]####################################################################"
          ],
          "name": "stdout"
        }
      ]
    },
    {
      "cell_type": "code",
      "metadata": {
        "id": "poISNiyuf0Wf",
        "colab_type": "code",
        "outputId": "e1b01ba3-64e5-4c8e-8f5b-eaae44822483",
        "colab": {
          "base_uri": "https://localhost:8080/",
          "height": 204
        }
      },
      "source": [
        "data.head()"
      ],
      "execution_count": 0,
      "outputs": [
        {
          "output_type": "execute_result",
          "data": {
            "text/html": [
              "<div>\n",
              "<style scoped>\n",
              "    .dataframe tbody tr th:only-of-type {\n",
              "        vertical-align: middle;\n",
              "    }\n",
              "\n",
              "    .dataframe tbody tr th {\n",
              "        vertical-align: top;\n",
              "    }\n",
              "\n",
              "    .dataframe thead th {\n",
              "        text-align: right;\n",
              "    }\n",
              "</style>\n",
              "<table border=\"1\" class=\"dataframe\">\n",
              "  <thead>\n",
              "    <tr style=\"text-align: right;\">\n",
              "      <th></th>\n",
              "      <th>time</th>\n",
              "      <th>price</th>\n",
              "      <th>pchange</th>\n",
              "      <th>change</th>\n",
              "      <th>volume</th>\n",
              "      <th>amount</th>\n",
              "      <th>type</th>\n",
              "    </tr>\n",
              "  </thead>\n",
              "  <tbody>\n",
              "    <tr>\n",
              "      <th>0</th>\n",
              "      <td>15:00:00</td>\n",
              "      <td>30.08</td>\n",
              "      <td>-8.93</td>\n",
              "      <td>0.00</td>\n",
              "      <td>0</td>\n",
              "      <td>0</td>\n",
              "      <td>买盘</td>\n",
              "    </tr>\n",
              "    <tr>\n",
              "      <th>1</th>\n",
              "      <td>15:00:00</td>\n",
              "      <td>30.08</td>\n",
              "      <td>-8.93</td>\n",
              "      <td>-0.05</td>\n",
              "      <td>1410</td>\n",
              "      <td>4241280</td>\n",
              "      <td>卖盘</td>\n",
              "    </tr>\n",
              "    <tr>\n",
              "      <th>2</th>\n",
              "      <td>14:59:56</td>\n",
              "      <td>30.13</td>\n",
              "      <td>-8.78</td>\n",
              "      <td>0.00</td>\n",
              "      <td>0</td>\n",
              "      <td>0</td>\n",
              "      <td>买盘</td>\n",
              "    </tr>\n",
              "    <tr>\n",
              "      <th>3</th>\n",
              "      <td>14:59:26</td>\n",
              "      <td>30.13</td>\n",
              "      <td>-8.78</td>\n",
              "      <td>0.00</td>\n",
              "      <td>0</td>\n",
              "      <td>0</td>\n",
              "      <td>买盘</td>\n",
              "    </tr>\n",
              "    <tr>\n",
              "      <th>4</th>\n",
              "      <td>14:57:14</td>\n",
              "      <td>30.13</td>\n",
              "      <td>-8.78</td>\n",
              "      <td>0.00</td>\n",
              "      <td>0</td>\n",
              "      <td>0</td>\n",
              "      <td>买盘</td>\n",
              "    </tr>\n",
              "  </tbody>\n",
              "</table>\n",
              "</div>"
            ],
            "text/plain": [
              "       time  price pchange  change  volume   amount type\n",
              "0  15:00:00  30.08   -8.93    0.00       0        0   买盘\n",
              "1  15:00:00  30.08   -8.93   -0.05    1410  4241280   卖盘\n",
              "2  14:59:56  30.13   -8.78    0.00       0        0   买盘\n",
              "3  14:59:26  30.13   -8.78    0.00       0        0   买盘\n",
              "4  14:57:14  30.13   -8.78    0.00       0        0   买盘"
            ]
          },
          "metadata": {
            "tags": []
          },
          "execution_count": 127
        }
      ]
    },
    {
      "cell_type": "code",
      "metadata": {
        "id": "emveIE_PgEzZ",
        "colab_type": "code",
        "outputId": "46463313-d68a-4e10-8043-3ad0c25d052f",
        "colab": {
          "base_uri": "https://localhost:8080/",
          "height": 34
        }
      },
      "source": [
        "data.shape"
      ],
      "execution_count": 0,
      "outputs": [
        {
          "output_type": "execute_result",
          "data": {
            "text/plain": [
              "(4114, 7)"
            ]
          },
          "metadata": {
            "tags": []
          },
          "execution_count": 128
        }
      ]
    },
    {
      "cell_type": "code",
      "metadata": {
        "id": "LCIrMX97LLCs",
        "colab_type": "code",
        "colab": {}
      },
      "source": [
        "from matplotlib import pyplot as plt\n",
        "import numpy as np\n",
        "from keras.layers import LSTM, Dropout, Dense\n",
        "from keras import Sequential\n",
        "from sklearn.preprocessing import MinMaxScaler"
      ],
      "execution_count": 0,
      "outputs": []
    },
    {
      "cell_type": "code",
      "metadata": {
        "id": "25hJXvRJNwX6",
        "colab_type": "code",
        "colab": {}
      },
      "source": [
        "plt.style.use('fivethirtyeight')"
      ],
      "execution_count": 0,
      "outputs": []
    },
    {
      "cell_type": "code",
      "metadata": {
        "id": "neBVFm93OLDq",
        "colab_type": "code",
        "outputId": "34c4903e-1d10-401f-bf8c-d50118dde861",
        "colab": {
          "base_uri": "https://localhost:8080/",
          "height": 282
        }
      },
      "source": [
        "sc = MinMaxScaler()\n",
        "time_order_data = data.iloc[::-1].reset_index()\n",
        "price = time_order_data['price'].values\n",
        "split_index = 4000\n",
        "plt.plot(range(split_index), price[:split_index])\n",
        "plt.plot(range(split_index, price.shape[0]), price[split_index:])\n",
        "sc.fit(price.reshape(-1,1))\n",
        "train_data = sc.transform(price[:split_index].reshape(-1,1))\n",
        "test_data = sc.transform(price[split_index:].reshape(-1,1))\n",
        "X_train = []\n",
        "y_train = []\n",
        "for i in range(10, train_data.shape[0]):\n",
        "    X_train.append(train_data[i-10:i, 0])\n",
        "    y_train.append(train_data[i,0])\n",
        "X_train, y_train = np.array(X_train), np.array(y_train)\n",
        "X_train = X_train.reshape(*X_train.shape, 1)"
      ],
      "execution_count": 0,
      "outputs": [
        {
          "output_type": "display_data",
          "data": {
            "image/png": "[encoded data removed]",
            "text/plain": [
              "<Figure size 432x288 with 1 Axes>"
            ]
          },
          "metadata": {
            "tags": []
          }
        }
      ]
    },
    {
      "cell_type": "code",
      "metadata": {
        "id": "87Jg31keOT9F",
        "colab_type": "code",
        "outputId": "0c6edc00-dbee-4a57-e3cd-d21156fc558c",
        "colab": {
          "base_uri": "https://localhost:8080/",
          "height": 1309
        }
      },
      "source": [
        "model = Sequential()\n",
        "model.add(LSTM(64, return_sequences= True, input_shape=(X_train.shape[1], 1)))\n",
        "model.add(Dropout(0.05))\n",
        "model.add(LSTM(64, return_sequences= True))\n",
        "model.add(Dropout(0.05))\n",
        "model.add(LSTM(64, return_sequences= True))\n",
        "model.add(Dropout(0.05))\n",
        "# model.add(LSTM(64, return_sequences= True))\n",
        "# model.add(Dropout(0.05))\n",
        "model.add(LSTM(64))\n",
        "model.add(Dropout(0.05))\n",
        "model.add(Dense(1))\n",
        "model.compile('rmsprop', 'mean_squared_error')\n",
        "model.summary()\n",
        "model.fit(X_train, y_train, epochs= 25, batch_size= 128, verbose= True)"
      ],
      "execution_count": 0,
      "outputs": [
        {
          "output_type": "stream",
          "text": [
            "_________________________________________________________________\n",
            "Layer (type)                 Output Shape              Param #   \n",
            "=================================================================\n",
            "lstm_49 (LSTM)               (None, 10, 64)            16896     \n",
            "_________________________________________________________________\n",
            "dropout_49 (Dropout)         (None, 10, 64)            0         \n",
            "_________________________________________________________________\n",
            "lstm_50 (LSTM)               (None, 10, 64)            33024     \n",
            "_________________________________________________________________\n",
            "dropout_50 (Dropout)         (None, 10, 64)            0         \n",
            "_________________________________________________________________\n",
            "lstm_51 (LSTM)               (None, 10, 64)            33024     \n",
            "_________________________________________________________________\n",
            "dropout_51 (Dropout)         (None, 10, 64)            0         \n",
            "_________________________________________________________________\n",
            "lstm_52 (LSTM)               (None, 64)                33024     \n",
            "_________________________________________________________________\n",
            "dropout_52 (Dropout)         (None, 64)                0         \n",
            "_________________________________________________________________\n",
            "dense_11 (Dense)             (None, 1)                 65        \n",
            "=================================================================\n",
            "Total params: 116,033\n",
            "Trainable params: 116,033\n",
            "Non-trainable params: 0\n",
            "_________________________________________________________________\n",
            "Epoch 1/25\n",
            "3990/3990 [==============================] - 11s 3ms/step - loss: 0.0193\n",
            "Epoch 2/25\n",
            "3990/3990 [==============================] - 2s 568us/step - loss: 0.0050\n",
            "Epoch 3/25\n",
            "3990/3990 [==============================] - 2s 555us/step - loss: 0.0041\n",
            "Epoch 4/25\n",
            "3990/3990 [==============================] - 2s 558us/step - loss: 0.0034\n",
            "Epoch 5/25\n",
            "3990/3990 [==============================] - 2s 559us/step - loss: 0.0026\n",
            "Epoch 6/25\n",
            "3990/3990 [==============================] - 2s 546us/step - loss: 0.0028\n",
            "Epoch 7/25\n",
            "3990/3990 [==============================] - 2s 551us/step - loss: 0.0025\n",
            "Epoch 8/25\n",
            "3990/3990 [==============================] - 2s 539us/step - loss: 0.0020\n",
            "Epoch 9/25\n",
            "3990/3990 [==============================] - 2s 552us/step - loss: 0.0025\n",
            "Epoch 10/25\n",
            "3990/3990 [==============================] - 2s 543us/step - loss: 0.0019\n",
            "Epoch 11/25\n",
            "3990/3990 [==============================] - 2s 539us/step - loss: 0.0020\n",
            "Epoch 12/25\n",
            "3990/3990 [==============================] - 2s 545us/step - loss: 0.0018\n",
            "Epoch 13/25\n",
            "3990/3990 [==============================] - 2s 544us/step - loss: 0.0016\n",
            "Epoch 14/25\n",
            "3990/3990 [==============================] - 2s 545us/step - loss: 0.0017\n",
            "Epoch 15/25\n",
            "3990/3990 [==============================] - 2s 550us/step - loss: 0.0015\n",
            "Epoch 16/25\n",
            "3990/3990 [==============================] - 2s 544us/step - loss: 0.0014\n",
            "Epoch 17/25\n",
            "3990/3990 [==============================] - 2s 551us/step - loss: 0.0014\n",
            "Epoch 18/25\n",
            "3990/3990 [==============================] - 2s 548us/step - loss: 0.0012\n",
            "Epoch 19/25\n",
            "3990/3990 [==============================] - 2s 545us/step - loss: 0.0013\n",
            "Epoch 20/25\n",
            "3990/3990 [==============================] - 2s 539us/step - loss: 0.0014\n",
            "Epoch 21/25\n",
            "3990/3990 [==============================] - 2s 547us/step - loss: 0.0010\n",
            "Epoch 22/25\n",
            "3990/3990 [==============================] - 2s 550us/step - loss: 0.0012\n",
            "Epoch 23/25\n",
            "3990/3990 [==============================] - 2s 557us/step - loss: 0.0012\n",
            "Epoch 24/25\n",
            "3990/3990 [==============================] - 2s 549us/step - loss: 0.0011\n",
            "Epoch 25/25\n",
            "3990/3990 [==============================] - 2s 550us/step - loss: 0.0012\n"
          ],
          "name": "stdout"
        },
        {
          "output_type": "execute_result",
          "data": {
            "text/plain": [
              "<keras.callbacks.History at 0x7ff0bbcf4d68>"
            ]
          },
          "metadata": {
            "tags": []
          },
          "execution_count": 100
        }
      ]
    },
    {
      "cell_type": "code",
      "metadata": {
        "id": "sVyJg5_sYXxk",
        "colab_type": "code",
        "outputId": "01f301a8-1020-45db-b11e-556125203ccc",
        "colab": {
          "base_uri": "https://localhost:8080/",
          "height": 34
        }
      },
      "source": [
        "np.concatenate([train_data[-10:], test_data], axis= 0).shape"
      ],
      "execution_count": 0,
      "outputs": [
        {
          "output_type": "execute_result",
          "data": {
            "text/plain": [
              "(499, 1)"
            ]
          },
          "metadata": {
            "tags": []
          },
          "execution_count": 89
        }
      ]
    },
    {
      "cell_type": "code",
      "metadata": {
        "id": "dtnCEwaGPQxC",
        "colab_type": "code",
        "colab": {}
      },
      "source": [
        "X_test = []\n",
        "y_test = []\n",
        "test_data_ = np.concatenate([train_data[-10:], test_data], axis= 0)\n",
        "for i in range(10, test_data_.shape[0]):\n",
        "    X_test.append(test_data_[i-10:i, 0])\n",
        "    y_test.append(test_data_[i,0])\n",
        "X_test, y_test = np.array(X_test), np.array(y_test)\n",
        "X_test = X_test.reshape(*X_test.shape, 1)"
      ],
      "execution_count": 0,
      "outputs": []
    },
    {
      "cell_type": "code",
      "metadata": {
        "id": "Lt1Dp67xXFLx",
        "colab_type": "code",
        "colab": {}
      },
      "source": [
        "predicted_stock_price = model.predict(X_test)\n",
        "predicted_stock_price = sc.inverse_transform(predicted_stock_price)"
      ],
      "execution_count": 0,
      "outputs": []
    },
    {
      "cell_type": "code",
      "metadata": {
        "id": "aF09C0qlXGWx",
        "colab_type": "code",
        "outputId": "239e3f9b-240c-4d00-9b45-abbed8b7a323",
        "colab": {
          "base_uri": "https://localhost:8080/",
          "height": 299
        }
      },
      "source": [
        "price = time_order_data['price'].values\n",
        "# split_index = 4000\n",
        "# plt.plot(range(split_index), price[:split_index])\n",
        "plt.plot(range(split_index, price.shape[0]), price[split_index:])\n",
        "plt.plot(range(split_index, price.shape[0]), predicted_stock_price)"
      ],
      "execution_count": 0,
      "outputs": [
        {
          "output_type": "execute_result",
          "data": {
            "text/plain": [
              "[<matplotlib.lines.Line2D at 0x7ff0b9a84ba8>]"
            ]
          },
          "metadata": {
            "tags": []
          },
          "execution_count": 104
        },
        {
          "output_type": "display_data",
          "data": {
            "image/png": "[encoded data removed]",
            "text/plain": [
              "<Figure size 432x288 with 1 Axes>"
            ]
          },
          "metadata": {
            "tags": []
          }
        }
      ]
    },
    {
      "cell_type": "code",
      "metadata": {
        "id": "HKzP353vY1CI",
        "colab_type": "code",
        "colab": {}
      },
      "source": [
        ""
      ],
      "execution_count": 0,
      "outputs": []
    }
  ]
}